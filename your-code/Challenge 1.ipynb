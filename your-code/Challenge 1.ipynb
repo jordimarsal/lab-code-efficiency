{
 "cells": [
  {
   "cell_type": "markdown",
   "metadata": {},
   "source": [
    "# Challenge 1\n",
    "\n",
    "This is a dumb calculator that can add and subtract whole numbers from zero to five.\n",
    "When you run the code, you are prompted to enter two numbers (in the form of English\n",
    "word instead of number) and the operator sign (also in the form of English word).\n",
    "The code will perform the calculation and give the result if your input is what it\n",
    "expects.\n",
    "\n",
    "The code is very long and messy. Refactor it according to what you have learned about\n",
    "code simplicity and efficiency."
   ]
  },
  {
   "cell_type": "code",
   "execution_count": 6,
   "metadata": {},
   "outputs": [
    {
     "name": "stdout",
     "output_type": "stream",
     "text": [
      "Welcome to this calculator!\n",
      "end to exit\n",
      "It can add and subtract whole numbers from zero to five\n",
      "Please choose your first number (zero to five): five\n",
      "What do you want to do? plus or minus: plus\n",
      "Please choose your second number (zero to five): five\n",
      "five plus five equals ten\n",
      "end to exit\n",
      "It can add and subtract whole numbers from zero to five\n",
      "Please choose your first number (zero to five): end\n",
      "Thanks for using this calculator, goodbye :)\n"
     ]
    }
   ],
   "source": [
    "nums = ['negative five','negative four','negative three','negative two','negative one','zero',\n",
    "        'one','two','three','four','five','six','seven','eight','nine','ten']\n",
    "is_fu = True\n",
    "\n",
    "print('Welcome to this calculator!')\n",
    "while is_fu:\n",
    "    print('end to exit')\n",
    "    print('It can add and subtract whole numbers from zero to five')\n",
    "    a = input('Please choose your first number (zero to five): ')\n",
    "    if 'end'==a:\n",
    "        is_fu = False\n",
    "    if is_fu:\n",
    "        b = input('What do you want to do? plus or minus: ')\n",
    "    if 'end'==a:\n",
    "        is_fu = False\n",
    "    if is_fu:\n",
    "        c = input('Please choose your second number (zero to five): ')\n",
    "    if 'end'==c:\n",
    "        is_fu = False\n",
    "    \n",
    "    if is_fu:\n",
    "        if a in nums and c in nums:\n",
    "            ai = nums.index(a)\n",
    "            ci = nums.index(c)\n",
    "            if b != 'plus':\n",
    "                ci = -ci\n",
    "            else:\n",
    "                ai -= 5\n",
    "                ci -= 5\n",
    "\n",
    "            xi = ai + ci + 5\n",
    "\n",
    "            if ci < 0:\n",
    "                ci = -ci\n",
    "            else:\n",
    "                ai += 5\n",
    "                ci += 5\n",
    "\n",
    "            print('%s %s %s equals %s' % (nums[ai],b,nums[ci],nums[xi]))\n",
    "\n",
    "        else:\n",
    "            print(\"I am not able to answer this question. Check your input.\")\n",
    "\n",
    "print(\"Thanks for using this calculator, goodbye :)\")"
   ]
  },
  {
   "cell_type": "code",
   "execution_count": null,
   "metadata": {},
   "outputs": [],
   "source": []
  }
 ],
 "metadata": {
  "kernelspec": {
   "display_name": "Python 3",
   "language": "python",
   "name": "python3"
  },
  "language_info": {
   "codemirror_mode": {
    "name": "ipython",
    "version": 3
   },
   "file_extension": ".py",
   "mimetype": "text/x-python",
   "name": "python",
   "nbconvert_exporter": "python",
   "pygments_lexer": "ipython3",
   "version": "3.6.8"
  }
 },
 "nbformat": 4,
 "nbformat_minor": 2
}
